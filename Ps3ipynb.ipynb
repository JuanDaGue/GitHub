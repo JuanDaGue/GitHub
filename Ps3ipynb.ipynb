{
  "nbformat": 4,
  "nbformat_minor": 0,
  "metadata": {
    "colab": {
      "name": "Ps3ipynb",
      "provenance": [],
      "collapsed_sections": [],
      "include_colab_link": true
    },
    "kernelspec": {
      "name": "python3",
      "display_name": "Python 3"
    }
  },
  "cells": [
    {
      "cell_type": "markdown",
      "metadata": {
        "id": "view-in-github",
        "colab_type": "text"
      },
      "source": [
        "<a href=\"https://colab.research.google.com/github/JuanDaGue/GitHub/blob/master/Ps3ipynb.ipynb\" target=\"_parent\"><img src=\"https://colab.research.google.com/assets/colab-badge.svg\" alt=\"Open In Colab\"/></a>"
      ]
    },
    {
      "cell_type": "code",
      "metadata": {
        "id": "oQdWgWlX7j5M",
        "colab": {
          "base_uri": "https://localhost:8080/",
          "height": 104
        },
        "outputId": "23743703-6450-46cd-ff2c-21916e2db3ec"
      },
      "source": [
        "!pip install spiceypy"
      ],
      "execution_count": null,
      "outputs": [
        {
          "output_type": "stream",
          "text": [
            "Requirement already satisfied: spiceypy in /usr/local/lib/python3.6/dist-packages (2.3.0)\n",
            "Requirement already satisfied: numpy>=1.17.0; python_version >= \"3.5\" in /usr/local/lib/python3.6/dist-packages (from spiceypy) (1.17.2)\n",
            "Requirement already satisfied: setuptools>=38.0.0 in /usr/local/lib/python3.6/dist-packages (from spiceypy) (41.2.0)\n",
            "Requirement already satisfied: certifi>=2017.1.23 in /usr/local/lib/python3.6/dist-packages (from spiceypy) (2019.9.11)\n",
            "Requirement already satisfied: six>=1.9.0 in /usr/local/lib/python3.6/dist-packages (from spiceypy) (1.12.0)\n"
          ],
          "name": "stdout"
        }
      ]
    },
    {
      "cell_type": "code",
      "metadata": {
        "id": "C-XhzSQe7082",
        "colab": {
          "base_uri": "https://localhost:8080/",
          "height": 87
        },
        "outputId": "d088919a-9055-4994-89ed-befd81d854f1"
      },
      "source": [
        "import numpy as np\n",
        "#import matplotlib.pylab as plt\n",
        "import spiceypy as spy\n",
        "from spiceypy import conics\n",
        "from mpl_toolkits.mplot3d import Axes3D\n",
        "from scipy.integrate import odeint\n",
        "#from meccel import *\n",
        "#%matplotlib nbagg\n",
        "##Tengo un problema con el mecel por eso tengo que importar cada libreria por aparte\n",
        "\n",
        "%pylab inline"
      ],
      "execution_count": null,
      "outputs": [
        {
          "output_type": "stream",
          "text": [
            "Populating the interactive namespace from numpy and matplotlib\n"
          ],
          "name": "stdout"
        },
        {
          "output_type": "stream",
          "text": [
            "/usr/local/lib/python3.6/dist-packages/IPython/core/magics/pylab.py:161: UserWarning: pylab import has clobbered these variables: ['spy']\n",
            "`%matplotlib` prevents importing * from pylab and numpy\n",
            "  \"\\n`%matplotlib` prevents importing * from pylab and numpy\"\n"
          ],
          "name": "stderr"
        }
      ]
    },
    {
      "cell_type": "markdown",
      "metadata": {
        "id": "quW1RKYL7sI2"
      },
      "source": [
        "##1. De vector de estado a elementos orbitales. \n",
        "Un satélite en órbita alrededor de la Tierra\n",
        "tiene una posición instantánea $\\vec{r} = 6045,0\\hat{i}+ 3490,0\\hat{j} + 0\\hat{k}$ [km] y una velocidad $ \\vec{v} = −2,457\\hat i+\n",
        "6,618\\hat j+2,533\\hat k$ [km/s]. Determine los elementos orbitales suponiendo que el plano fundamental es el ecuador terrestre."
      ]
    },
    {
      "cell_type": "code",
      "metadata": {
        "id": "6wEDw1UN9Nll",
        "colab": {
          "base_uri": "https://localhost:8080/",
          "height": 69
        },
        "outputId": "210a3fd1-3958-4d85-e1c2-3c7d64915115"
      },
      "source": [
        "#Constantes\n",
        "G=6.67e-11\n",
        "ms=1.98e30\n",
        "Mu=G*ms\n",
        "#vectores \n",
        "r=np.array([6045.0,3490.0,0.0])# Posición[km]\n",
        "v=np.array([-2.457,6.618,2.533]) # velocidad [km]/s\n",
        "\n",
        "#momento angular especifico\n",
        "\n",
        "hvec=np.cross(r,v)\n",
        "\n",
        "#energia especifica\n",
        "\n",
        "E=(np.linalg.norm(v)**2)/2.0+Mu/np.linalg.norm(r)\n",
        "\n",
        "#vector lapace runge lentz y vector excentricidad\n",
        "\n",
        "A=np.cross(v,h)-Mu*r/np.linalg.norm(r)\n",
        "evec=A/Mu\n",
        "\n",
        "print(\"momento angular especifico\",hvec,\" cuya magnitud es \",np.linalg.norm(hvec),\"km^2/s\")\n",
        "print(\"la energia especifica es %3.f\"%E,\"km^2/s^2\")\n",
        "print(\"El vector excentricidad\",evec,\" cuya magnitud es \",np.linalg.norm(evec))"
      ],
      "execution_count": null,
      "outputs": [
        {
          "output_type": "stream",
          "text": [
            "momento angular especifico [  8840.17  -15311.985  48580.74 ]  cuya magnitud es  51698.10237539406 km^2/s\n",
            "la energia especifica es 18920295428396272 km^2/s^2\n",
            "El vector excentricidad [-8.66030514e-01 -4.99991149e-01 -1.58123195e-16]  cuya magnitud es  0.9999999999999971\n"
          ],
          "name": "stdout"
        }
      ]
    },
    {
      "cell_type": "markdown",
      "metadata": {
        "id": "_RaBw932mdWT"
      },
      "source": [
        "Ahora, es necesario recordar las expresiones siguientes\n",
        "\\begin{eqnarray}\n",
        "\\cos \\Omega & = & \\frac{\\vec{n}\\cdot \\hat{a_x}}{n} = \\frac{n_x}{n}\\\\\n",
        "\\cos \\omega & = & \\frac{\\vec{n}\\cdot \\vec{e} }{ne} \\\\\n",
        "\\cos f & = & \\frac{\\vec{e}\\cdot \\vec{r}}{er} \\\\\n",
        "\\cos i & = & \\frac{\\vec{h}\\cdot \\hat{a_z}}{h} = \\frac{h_z}{h}, \\\\\n",
        "\\end{eqnarray}\n",
        "\n",
        "donde el vector $\\vec{n}$ esta definido como\n",
        "\n",
        "\n",
        "\\begin{equation}\n",
        "\\displaystyle \\vec{n} = \\hat{a_z}\\times \\vec{h}\n",
        "\\end{equation}\n",
        " el cual apunta en la dirección de la línea de los nodos\n",
        "medida respecto al punto vernal. "
      ]
    },
    {
      "cell_type": "code",
      "metadata": {
        "id": "tPasXwo7nBAb",
        "colab": {
          "base_uri": "https://localhost:8080/",
          "height": 35
        },
        "outputId": "be907f0e-832a-4768-8a37-c1c256c4b6ae"
      },
      "source": [
        "#Vectores unitarios\n",
        "ax=np.array([1,0,0])\n",
        "ay=np.array([0,1,0])\n",
        "az=np.array([0,0,1])\n",
        "            \n",
        "#vector n\n",
        "\n",
        "nvec=np.cross(az,h)\n",
        "print(\"el vector del nodo es \",nvec)\n"
      ],
      "execution_count": null,
      "outputs": [
        {
          "output_type": "stream",
          "text": [
            "el vector del nodo es  [15311.985  8840.17     -0.   ]\n"
          ],
          "name": "stdout"
        }
      ]
    },
    {
      "cell_type": "markdown",
      "metadata": {
        "id": "61SbJZG_oEBf"
      },
      "source": [
        "- **Longitud del nodo ascendente**. \n",
        "El criterio consiste en tomar la proyección \n",
        "del vector nodal $\\vec{n}$ sobre el eje $y$ de manera que si el signo es\n",
        "positivo, entonces el valor principal es el valor correcto. Si es negativo, el\n",
        "valor de $\\Omega$ se obtiene restando el valor principal de $2\\pi$. \n",
        "\n",
        "\\begin{eqnarray}\n",
        "\\Omega & = & \\cos^{-1}\\left(\\frac{\\vec{n}\\cdot \\hat{i}}{n} \\right) \\hspace{0.3cm} \\text{sii } \\vec{n}\\cdot \\hat{j} = n_y \\geq 0\\\\\n",
        "& = & 2\\pi - \\cos^{-1}\\left(\\frac{\\vec{n}\\cdot \\hat{i}}{n} \\right) \\hspace{0.3cm} \\text{sii } \\vec{n}\\cdot \\hat{j} = n_y < 0 \n",
        "\\end{eqnarray}"
      ]
    },
    {
      "cell_type": "code",
      "metadata": {
        "id": "oIkrwjamoNNe",
        "colab": {
          "base_uri": "https://localhost:8080/",
          "height": 35
        },
        "outputId": "a45a5ced-025d-4039-bc01-8dcb635745e7"
      },
      "source": [
        "Omega=np.arccos((np.dot(nvec,ax))/np.linalg.norm(nvec))\n",
        "\n",
        "\n",
        "if np.dot(nvec,ay)>=0:\n",
        "  \n",
        "  print(Omega)\n",
        "else:\n",
        "  Omega=2*np.pi-Omega\n",
        "  print(\"La lonngitud del nodo ascendente es\",Omega*(180/np.pi))\n"
      ],
      "execution_count": null,
      "outputs": [
        {
          "output_type": "stream",
          "text": [
            "0.5235885550353486\n"
          ],
          "name": "stdout"
        }
      ]
    },
    {
      "cell_type": "markdown",
      "metadata": {
        "id": "2-yx2hRFrguc"
      },
      "source": [
        "- **Argumento del periapsis**. De nuevo, es necesario un criterio\n",
        "para concer el cuadrante correcto de $\\omega$. En este caso analizamos\n",
        "la proyección del vector de excentricidad sobre el eje $z$. \n",
        "\n",
        "\\begin{eqnarray}\n",
        "\\omega & = & \\cos^{-1}\\left(\\frac{\\vec{n}\\cdot \\vec{e}}{ne} \\right) \\hspace{0.3cm} \\text{sii } \\vec{e}\\cdot \\hat{k} = e_z \\geq 0\\\\\n",
        "& = & 2\\pi - \\cos^{-1}\\left(\\frac{\\vec{n}\\cdot \\vec{e}}{ne} \\right) \\hspace{0.3cm} \\text{sii } \\vec{e}\\cdot \\hat{k} = e_z < 0 \n",
        "\\end{eqnarray}"
      ]
    },
    {
      "cell_type": "code",
      "metadata": {
        "id": "mefD7eR4qURj",
        "colab": {
          "base_uri": "https://localhost:8080/",
          "height": 35
        },
        "outputId": "210a888c-db5e-4cf3-ec28-901ad6c0cc42"
      },
      "source": [
        "omega=np.arccos((np.dot(nvec,evec))/(np.linalg.norm(nvec))*np.linalg.norm(evec))\n",
        "\n",
        "\n",
        "if np.dot(evec,az)>=0:\n",
        "  \n",
        "  print(omega)\n",
        "else:\n",
        "  omega=2*np.pi-omega\n",
        "  print(\"El argumento del pariabsis es\",omega*(180/np.pi))\n",
        "  "
      ],
      "execution_count": null,
      "outputs": [
        {
          "output_type": "stream",
          "text": [
            "El argumento del pariabsis es 180.00000627392936\n"
          ],
          "name": "stdout"
        }
      ]
    },
    {
      "cell_type": "markdown",
      "metadata": {
        "id": "lwa2Vu-4sfmG"
      },
      "source": [
        "- **Anomalia verdadera**. El criterio para decidir\n",
        "el cuadrante depende de si el cuerpo se aleja del periapsis o si se acerca al periapsis. Para esto necesitamos conocer el signo de la taza de cambio de la variable radial. Notemos que\n",
        "\n",
        "    $$\n",
        "    v_r = \\frac{\\vec{r}\\cdot \\vec{v}}{r}\n",
        "    $$\n",
        "\n",
        "    Para una órbita elíptica, si el cuerpo se aleja del periáspsis $v_r > 0$\n",
        "    y si se acerca al periápsis $v_r < 0$.\n",
        "    \n",
        "    Finalmente, el criterio para seleccionar el cuadrante de $f$ es\n",
        "\n",
        "    \\begin{eqnarray}\n",
        "    f & = & \\cos^{-1}\\left(\\frac{\\vec{e}\\cdot \\vec{r}}{er} \\right) \\hspace{0.3cm} \\text{sii } v_r \\geq 0\\\\\n",
        "    f & = & 2\\pi - \\cos^{-1}\\left(\\frac{\\vec{e}\\cdot \\vec{r}}{er} \\right) \\hspace{0.3cm} \\text{sii } v_r < 0 \n",
        "    \\end{eqnarray}"
      ]
    },
    {
      "cell_type": "code",
      "metadata": {
        "id": "rAUNlFOHstJ3",
        "colab": {
          "base_uri": "https://localhost:8080/",
          "height": 52
        },
        "outputId": "703f215b-6a1f-4759-8673-d6a499cdd0d2"
      },
      "source": [
        "#velocidad radial\n",
        "vr=np.dot(r,v)/np.linalg.norm(r)\n",
        "if vr>=0:\n",
        "  \n",
        "  print(\"El cuerpo se aleja del periabsis con una velocidad radial de\",vr)\n",
        "else:\n",
        "  print(\"El cuerpo se acerca al periabsis con una velocidad radial de\",vr)\n",
        "  \n",
        "#anomalia verdadera\n",
        "f=np.arccos((np.dot(evec,r))/(np.linalg.norm(evec)*np.linalg.norm(r)))\n",
        "\n",
        "if vr>=0:\n",
        "  print(\"El argumento del pariabsis es\",f*(180/np.pi))\n",
        "else:\n",
        "  f=2*np.pi-f\n",
        "  print(\"El argumento del pariabsis es\",f*(180/np.pi))"
      ],
      "execution_count": null,
      "outputs": [
        {
          "output_type": "stream",
          "text": [
            "El cuerpo se aleja del periabsis con una velocidad radial de 1.1811044491923197\n",
            "El argumento del pariabsis es 180.0\n"
          ],
          "name": "stdout"
        }
      ]
    },
    {
      "cell_type": "markdown",
      "metadata": {
        "id": "d0LLW1hMu6vK"
      },
      "source": [
        "- **Inclinación**. No hay ambiguedad en la determinación ya que \n",
        "$0º\\leq i <180º$. Si $90º < i < \\leq 180º$ la órbita es retrógrada"
      ]
    },
    {
      "cell_type": "code",
      "metadata": {
        "id": "IJZhv-0XvFLu",
        "colab": {
          "base_uri": "https://localhost:8080/",
          "height": 35
        },
        "outputId": "34481532-a906-4f33-9e74-960fc2b3702b"
      },
      "source": [
        "i=np.arccos((np.dot(hvec,az))/(np.linalg.norm(hvec)))\n",
        "print(\"la nclinacion es\",i*(180/np.pi))"
      ],
      "execution_count": null,
      "outputs": [
        {
          "output_type": "stream",
          "text": [
            "la nclinacion es 19.9986562048433\n"
          ],
          "name": "stdout"
        }
      ]
    },
    {
      "cell_type": "markdown",
      "metadata": {
        "id": "SkafByH4PbWQ"
      },
      "source": [
        "##2. Satélite en órbita.\n",
        "Un satélite en órbita elíptica alrededor de la Tierra tiene un período de $15,7430$ horas y una distancia al perigeo de $12756,0 $ km (respecto al centro de la Tierra). En\n",
        "$t = 10$ horas después del paso por el perigeo calcule:\n",
        "\n"
      ]
    },
    {
      "cell_type": "markdown",
      "metadata": {
        "id": "pc-3TNzMQIk5"
      },
      "source": [
        "**a)La distancia radial.**\n",
        "\n",
        "**Sln:**\n",
        ">**Datos:**\n",
        "\n",
        "> $T= 15,7430\\, h= 566674.8 \\, s$ \"*Periodo*\"\n",
        "\n",
        ">$q=12756,0  \\,km$\"*Perigeo*\"\n",
        "\n",
        ">$Mt=5.97\\times10^{24} \\,kg$ \"*masa de la Tierra*\"\n",
        "\n",
        ">$M_l=7.35\\times10^{22}\\, kg$ \"*masa de la Luna*\"\n",
        "\n",
        ">$\\mu=G(M_t+m_l)=4.03\\times10^{14}$\n",
        "\n",
        "> $\\eta^2=\\left(\\dfrac{2\\pi}{T}\\right)^2=1.22\\times10^{-8}\\,s^{-1}$\n",
        "\n",
        "\n",
        "\n",
        "Para encontrar la distancia radial es necesario conocer la anomalía verdadera $f$ o la anomalía excéntrica $E$ en $t=10$\n",
        "\\begin{align}\n",
        "&r=\\dfrac{P}{1+e\\cos(f)}\\qquad&(2.1)\\\\\n",
        "&r=a(1-ecos(E))\\qquad&(2.2)\n",
        "\\end{align}\n",
        "la anomalía excéntrica se puede optener de las ecuaciones de Kepler\n",
        "\\begin{eqnarray}\n",
        "(t-t_p)\\eta=E-e\\sin{E}\n",
        "\\end{eqnarray}\n",
        "donde $a$ se puede allar del corolario de Newton.\n",
        "$$a=\\left(\\frac{\\mu}{\\eta ^2}\\right)^{\\frac{1}{3}}=3.20\\times10^{7}\\, m$$\n",
        "$a$ es el semieje mayor de la orbita, y este esta relacionado con el perigeo de la siguiente manera.\n",
        "\\begin{align}\n",
        "&a=q/(1-e)\\\\\n",
        "\\textit{Despejando $e$ se obtine}\\qquad& e=1-\\frac{q}{a}\\\\\n",
        "&e=0.60\n",
        "\\end{align}\n",
        "\n",
        "Con el valor de la excentriciad es posible encontrar el valor de la anomalia excentrica $E$ udando metodos númericos\n",
        "$$E=M+e\\sin(E)$$\n",
        "Con $M=(t-t_p)\\eta=43.976$\n",
        "\n",
        "Por tanto $E=4.001=229.29°$\n",
        "\n",
        "Reemplazando $E$en la ecuacion (2.2) se optiene  $r=4.45\\times10^7\\mbox{m}$\n",
        "\n",
        "\n",
        "\n"
      ]
    },
    {
      "cell_type": "markdown",
      "metadata": {
        "id": "jsoQsi4U38aU"
      },
      "source": [
        "**b) La velocidad.**\n",
        "La velocidad se puede encontrar apartir de la *vis-viva*\n",
        "$$v^2=\\mu\\left(\\frac{2}{r}-\\frac{1}{a}\\right)=4.03×10^{14}\\left(\\frac{2}{4.45\\times10^7}-\\frac{1}{3.20\\times10^7}\\right)=5509332.188\\,\\mbox{m}^2/\\mbox{s}^2$$\n",
        "con esto $v=2347.19\\mbox{m}/\\mbox{s}$\n",
        "\n",
        "**c) La componente radial de la velocidad.**\n",
        "Esta componente se puede hallar si se encuentra el angulo de la velocidad $\\phi$ con el eje $x$, usando la sigueinte expresión\n",
        "$$v_r=v\\cos{\\phi}$$\n",
        "Recordadndo que la magnitud de $h$ es $\\left | \\vec{h} \\right |=\\left | \\vec{r}\\times\\vec{v} \\right | =rv\\sin \\phi$, con $\\phi$ el agulo entre\n",
        "$\\vec{v}$ y $\\vec{r}$\n",
        "\\begin{eqnarray}\n",
        "\\sin \\phi=\\frac{h}{rv}\\qquad(2.4)\n",
        "\\end{eqnarray}\n",
        " Es posible hallar $h$, usando la ley de las areas\n",
        "\n",
        "\\begin{eqnarray}\n",
        "\\Delta A=\\frac{h}{2}\\Delta T\\\\\n",
        "\\end{eqnarray}\n",
        "\n",
        "En una vuelta completa $\\Delta A=\\pi ab$ es el area de la elipse, y $\\Delta T=T$ es el período de la órbita y $b=a\\sqrt{1-e^2}=2.56\\times10^7$.\n",
        "\\begin{eqnarray}\n",
        "\\pi ab&=\\frac{h}{2}T&\\\\\n",
        "\\frac{2\\pi ab}{T}&=h=&9.08\\times 10^9 \\mbox{m}^2\\mbox{/s}\n",
        "\\end{eqnarray}\n",
        "y reemplazando este valor en $(2.4)$ se obtiene que $\\phi=\n",
        "1.20248\\mbox{ rad}\n",
        "$\n",
        "y la componente radial de la velocidad sería\n",
        "$$\n",
        "\\boxed{v_{r}=v\\cos\\phi=720.68\\mbox{ m/s}.}\n",
        "$$\n",
        "\n",
        "**d) ¿Se acerca o se aleja del periapsis?**\n",
        "Como  $E>\\pi$, entonces el satélite ya pasó por el apogeo\n",
        "y debe suceder que su radio vector está disminuyendo de magnitud,\n",
        "por lo que se debe estar acercando al perigeo."
      ]
    },
    {
      "cell_type": "markdown",
      "metadata": {
        "id": "_en6rEJLAHVj"
      },
      "source": [
        "**3. Ecuación de la curva límite.** Considere una partícula de prueba que está confinada a moverse en el plano $xy$, formando un sistema de tres cuerpos con otro par de objetos masivos. Demuestre que la ecuación de la *curva limite* (que separa las regiones donde la partícula puede moverse y donde no) es  \n",
        "  \n",
        "$$\n",
        "(1-\\alpha)\\Big(r_1^2 + \\frac{2}{r_1}\\Big) + \\alpha \\Big(r_2^2 + \\frac{2}{r_2}\\Big) = C_J + \\alpha(1-\\alpha).\n",
        "$$\n",
        "\n",
        "A partir de esta expresión, demuestre que el valor mínimo de la constante de Jacobi $C$ es \n",
        "\n",
        "$$\n",
        "\\displaystyle C_{\\text{min}} = 3-\\alpha(1-\\alpha)\n",
        "$$"
      ]
    },
    {
      "cell_type": "markdown",
      "metadata": {
        "id": "Zr8ZPpOiADEQ"
      },
      "source": [
        "**Solución**\n",
        "\n",
        "Recordemos que en las unidades canónicas de nuestro CRTBP, la constante de Jacobi está dada por \n",
        "$$\n",
        "C=-\\vec{v}^{2}+\\frac{2\\left(1-\\alpha\\right)}{r_{1}}+\\frac{2\\alpha}{r_{2}}+x^{2}+y^{2}.\n",
        "$$\n",
        "Debido a que necesariamente $\\vec{v}^{2}\\geq0$, tiene que suceder también que \n",
        "$$\n",
        "-C+\\frac{2\\left(1-\\alpha\\right)}{r_{1}}+\\frac{2\\alpha}{r_{2}}+x^{2}+y^{2}\\geq0.\n",
        "$$\n",
        "Por lo tanto, la ecuación de la curva límite que separa las regiones donde la partícula puede moverse está dada por el caso de igualdad. Ahora, si la partícula de prueba que está confinada a moverse en el plano $xy$, entonces su coordenada $z=0$ y, recordando que $x_{1}=-\\alpha$ y que $x_{2}=1-\\alpha$, tenemos lo siguiente: \n",
        "\\begin{eqnarray}\n",
        "r_{1}^{2}&=&\\left(x-x_{1}\\right)^{2}+y^{2}=\\left(x+\\alpha\\right)^{2}+y^{2}=x^{2}+2\\alpha x+\\alpha^{2}+y^{2}\\\\r_{2}^{2}&=&\\left(x-x_{2}\\right)^{2}+y^{2}=\\left(x-\\left(1-\\alpha\\right)\\right)^{2}+y^{2}=x^{2}-2\\left(1-\\alpha\\right)x+\\left(1-\\alpha\\right)^{2}+y^{2}.\n",
        "\\end{eqnarray}\n",
        "Al restar estas dos ecuaciones, tenemos\n",
        "$$\n",
        "r_{1}^{2}-r_{2}^{2}=2x+\\alpha^{2}-\\left(1-\\alpha\\right)^{2}\\qquad\\Longrightarrow\\qquad2x=r_{1}^{2}-r_{2}^{2}-\\alpha^{2}+\\left(1-\\alpha\\right)^{2}.\n",
        "$$\n",
        "Al sumarlas y aplicar lo obtenido, se sigue\n",
        "$$r_{1}^{2}+r_{2}^{2}=2\\left(x^{2}+y^{2}\\right)+2\\left(2\\alpha-1\\right)x+\\alpha^{2}+\\left(1-\\alpha\\right)^{2}=2\\left(x^{2}+y^{2}\\right)+\\left(2\\alpha-1\\right)\\left[r_{1}^{2}-r_{2}^{2}-\\alpha^{2}+\\left(1-\\alpha\\right)^{2}\\right]+\\alpha^{2}+\\left(1-\\alpha\\right)^{2}.\n",
        "$$\n",
        "Al despejar $2\\left(x^{2}+y^{2}\\right)$ (con cuidado algebraico): \n",
        "\\begin{eqnarray}\n",
        "2\\left(x^{2}+y^{2}\\right)&=&r_{1}^{2}+r_{2}^{2}-\\left(2\\alpha-1\\right)\\left[r_{1}^{2}-r_{2}^{2}-\\alpha^{2}+\\left(1-\\alpha\\right)^{2}\\right]-\\alpha^{2}-\\left(1-\\alpha\\right)^{2}\\\\&=&r_{1}^{2}+r_{2}^{2}-\\left(2\\alpha-1\\right)r_{1}^{2}+\\left(2\\alpha-1\\right)r_{2}^{2}+\\left(2\\alpha-1\\right)\\alpha^{2}-\\left(2\\alpha-1\\right)\\left(1-\\alpha\\right)^{2}-\\alpha^{2}-\\left(1-\\alpha\\right)^{2}\\\\&=&r_{1}^{2}+r_{2}^{2}-2\\alpha r_{1}^{2}+r_{1}^{2}+2\\alpha r_{2}^{2}-r_{2}^{2}+2\\alpha^{3}-\\alpha^{2}-2\\alpha+4\\alpha^{2}-2\\alpha^{3}+1-2\\alpha+\\alpha^{2}-\\alpha^{2}-1+2\\alpha-\\alpha^{2}\\\\&=&2r_{1}^{2}\\left(1-\\alpha\\right)+2\\alpha r_{2}^{2}-2\\alpha\\left(1-\\alpha\\right).\n",
        "\\end{eqnarray}\n",
        "Simplificando, se obtiene finalmente\n",
        "$$x^{2}+y^{2}=r_{1}^{2}\\left(1-\\alpha\\right)+\\alpha r_{2}^{2}-\\alpha\\left(1-\\alpha\\right).\n",
        "$$\n",
        "Reemplazando este resultado en la ecuación de la curva límite, tenemos\n",
        "$$-C+\\frac{2\\left(1-\\alpha\\right)}{r_{1}}+\\frac{2\\alpha}{r_{2}}+r_{1}^{2}\\left(1-\\alpha\\right)+\\alpha r_{2}^{2}-\\alpha\\left(1-\\alpha\\right)=0.\n",
        "$$\n",
        "Reorganizando esta expresión, obtenemos lo pedido:\n",
        "$$\\left(1-\\alpha\\right)\\left(r_{1}^{2}+\\frac{2}{r_{1}}\\right)+\\alpha\\left(r_{2}^{2}+\\frac{2}{r_{2}}\\right)=C+\\alpha\\left(1-\\alpha\\right).\n",
        "$$\n",
        "\n",
        "Ahora, si derivamos parcialmente esta expresión con respecto a $r_{1}$, obtenemos \n",
        "$$\\left(1-\\alpha\\right)\\left(2r_{1}-\\frac{2}{r_{1}^{2}}\\right)=\\frac{\\partial C}{\\partial r_{1}}.\n",
        "$$\n",
        "Igualando esta expresión a cero, obtenemos los puntos críticos de $C$:\n",
        "$$\\left(1-\\alpha\\right)\\left(2r_{1}-\\frac{2}{r_{1}^{2}}\\right)=0\\qquad\\Longrightarrow\\qquad r_{1}=1.\n",
        "$$\n",
        "$\\alpha$ no puede ser 1 porque, por definición, su valor está entre 0 y 0.5. Al derivar parcialmente con respecto a $r_{2}$ e igualando a cero, obtenemos, de igual manera, $r_{2}=1$. Al derivar una segunda vez con respecto, por ejemplo, a $r_{1}$, obtenemos \n",
        "$$\n",
        "\\left(1-\\alpha\\right)\\left(2+\\frac{4}{r_{1}^{3}}\\right)=\\frac{\\partial^{2}C}{\\partial r_{1}^{2}}.\n",
        "$$\n",
        "Nótese que \n",
        "$$\n",
        "\\left.\\frac{\\partial^{2}C}{\\partial r_{1}^{2}}\\right|_{r_{1}=1}>0.\n",
        "$$\n",
        "Haciendo lo mismo con $r_{2}$, se obtiene que \n",
        "$$\n",
        "\\left.\\frac{\\partial^{2}C}{\\partial r_{2}^{2}}\\right|_{r_{2}=1}>0.\n",
        "$$\n",
        "por lo que podemos asegurar que estamos hallando un mínimo. Al reemplazar $r_{1}=r_{2}=1$ en nuestra curva límite, se sigue que \n",
        "$$\n",
        "\\left(1-\\alpha\\right)\\left(1+2\\right)+\\alpha\\left(1+2\\right)=C_{\\mbox{min}}+\\alpha\\left(1-\\alpha\\right)\\qquad\\Longrightarrow\\qquad C_{\\mbox{min}}=3-\\alpha\\left(1-\\alpha\\right),\n",
        "$$\n",
        "que era lo que queríamos demostrar."
      ]
    },
    {
      "cell_type": "markdown",
      "metadata": {
        "id": "K0lhAI5I-PUy"
      },
      "source": [
        "##4. Criterio de Tisserand para orbitas parabólicas. \n",
        "Muestre que si un cometa inicialmente\n",
        "en una órbita parabólica es perturbado por Júpiter de manera que la órbita final continúa siendo parabólica, la relación de las inclinaciones orbitales antes y después se escribe como\n",
        "$$\\cos i_2 =\\sqrt{\\frac{q_1}{q_2}}\\cos i_1$$\n",
        "\n",
        "donde $q1$ y $q2$ son las distancias al perihelio de la orbita inicial y final respectivamente."
      ]
    },
    {
      "cell_type": "markdown",
      "metadata": {
        "id": "Z__LZooqJg_k"
      },
      "source": [
        "Tomemos la ecuación $(4.1)$ tiene la posicion del objeto respecto a su anomalia verdadera.\n",
        "$$\n",
        "r=\\frac{h^{2}/\\mu}{1+e\\cos f}.\n",
        "$$\n",
        "Si tomamos el paso del cuerpo por el periastro $q$, esto ocurre cuando $f=0$\n",
        "$$\n",
        "q=\\frac{h^{2}}{2\\mu},\n",
        "$$\n",
        "donde $\\vec{h}=\\vec{r}\\times\\vec{v}$. Como este vector es constante, calculemos su magnitud en un punto en particular: el periastro, \n",
        "$$h=qv_{p},$$\n",
        " donde se tomo $e=1$ asumiendo una orbita parabólica, y $v_{p}$ es la velocidad del cometa en el periastro, perpendicular al vector posición en ese punto. Igualando las últimas dos relaciones, obtenemos \n",
        "$$\n",
        "v_{p}=\\sqrt{\\frac{2\\mu}{q}}.\n",
        "$$\n",
        "Además, la energía específica para el problema de 2 cuerpos en el periastro tiene la siguiente expresión,\n",
        "$$\n",
        "\\epsilon=\\frac{1}{2}\\frac{2\\mu}{q}-\\frac{\\mu}{q}=0.\n",
        "$$\n",
        "Por lo tanto, obtenemos una relación *vis viva* para órbitas parabólicas: \n",
        "$$\n",
        "v^{2}=\\frac{2\\mu}{r}.\n",
        "$$\n",
        "\n",
        "\n",
        "\n",
        "\n",
        "---\n",
        "\n",
        "###ayuda.\n",
        "La constante de Jacobi se puede escribir como\n",
        "\n",
        "$$\n",
        "C_J = 2\\frac{(1-\\alpha)}{r_{1}} + 2\\frac{\\alpha}{r_{2}} + x^2 + y^2-v^2 \n",
        "$$\n",
        "\n",
        "en el sistema rotante del problema de los tres cuerpos. A partir de la posición $(\\xi, \\eta, \\zeta)$ de $m_3$ en el sistema inercial ubicado en el centro de masa de $m_1$ y $m_2$ y de la transformación de unas coordenadas a otras\n",
        "\n",
        "$$\n",
        "\\left(\\! \\begin{array}{c}\n",
        "   \\xi \\\\\n",
        "   \\eta \\\\\n",
        "   \\zeta\n",
        "   \\end{array} \\! \\right)= \\left(\\!\\!\\! \\begin{array}{ccc}\n",
        "   \\cos nt & -\\sin nt & 0\\\\\n",
        "   \\sin nt & \\cos nt & 0\\\\  \n",
        "   0 & 0 & 1\n",
        "   \\end{array} \\!\\!\\!\\right)\\left(\\! \\begin{array}{c}\n",
        "   x \\\\\n",
        "   y \\\\\n",
        "   z\n",
        "   \\end{array} \\! \\right),\n",
        "$$\n",
        "\n",
        "se puede escribir como\n",
        "\n",
        "$$\n",
        "C\\left(\\xi,\\eta,\\zeta\\right) = -(\\dot{\\xi}^2 + \\dot{\\eta}^2 + \\dot{\\zeta}^2) + 2\\frac{(1-\\alpha)}{r_1} + 2\\frac{\\alpha}{r_2} + 2(\\xi \\dot{\\eta} - \\eta \\dot{\\xi})\\\\(4.2) \n",
        "$$\n",
        "\n",
        "${\\small\\small{nota:\\textit{la demostración de esta transformación está en las ultima secciones del problem set}}}$\n",
        "\n",
        "---\n",
        "\n",
        "Ahora, en la ecuación $(4.2)$, el término $\\xi \\dot{\\eta} - \\eta \\dot{\\xi}$, es la componente del momentum angular \n",
        "específico $h$ a lo largo del eje de rotación, de manera que $\\xi \\dot{\\eta} - \\eta \\dot{\\xi} = \\omega \\cdot \\vec{h} = h \\cos i$,  \n",
        "teniendo en cuenta que $\\vec{\\omega} = (0,0,1)$ en las unidades del CRTBP y siendo $i$ la inclinación de la órbita del cometa respecto al plano de movimiento de $m_1$ y $m_2$. Entonces \n",
        "\n",
        "$$\n",
        "C\\left(\\xi,\\eta,\\zeta\\right)=-\\left(\\dot{\\xi}^{2}+\\dot{\\eta}^{2}+\\dot{\\zeta}^{2}\\right)+\\frac{2\\left(1-\\alpha\\right)}{r_{1}}+\\frac{2\\alpha}{r_{2}}+2h\\cos i.\n",
        "$$\n",
        "Ademas $\\dot{\\xi}^{2}+\\dot{\\eta}^{2}+\\dot{\\zeta}^{2}=v^{2}$, y considerando que $m_{3}$ orbita a $m_{1}$ y que en nuestras unidades canónicas $\\mu=1$, entonces\n",
        "$$\n",
        "C=-\\frac{2}{r_{1}}+\\frac{2\\left(1-\\alpha\\right)}{r_{1}}+\\frac{2\\alpha}{r_{2}}+2h\\cos i.\n",
        "$$\n",
        "Si se calcula el valor de $C$ muy lejos de $m_{1}$ y $m_{2}$, donde $r_{1},\\, r_{2}\\gg1$, obtenemos \n",
        "$$\n",
        "C=2h\\cos i.\n",
        "$$\n",
        "Así, para dos órbitas con distancias al periastro $q_{1}$ y $q_{2}$ cuyas  inclinaciones son $i_{1}$ e $i_{2}$ respectivamente, obtenemos el criterio\n",
        "\\begin{align}\n",
        "C&=2\\sqrt{2q_{1}}\\cos i_{1}\\\\\n",
        "C&=2\\sqrt{2q_{2}}\\cos i_{2},\n",
        "\\end{align}\n",
        "que igualando y depejando obtenemos lo pedido:\n",
        "$$\n",
        "2\\sqrt{2q_{1}}\\cos i_{1}=2\\sqrt{2q_{2}}\\cos i_{2}.\n",
        "$$\n",
        "\n",
        "$$\n",
        "\\cos i_{2}=\\sqrt{\\frac{q_{1}}{q_{2}}}\\cos i_{1}.\n",
        "$$"
      ]
    },
    {
      "cell_type": "markdown",
      "metadata": {
        "id": "iAzr_iJ6J1bP"
      },
      "source": [
        "#Velocidad mínima respecto a un sistema rotante. \n",
        "Una nave espacial se encuentra en una órbita circular alrededor de la tierra con una altitud de 100 km y con un inclinación orbital respecto al ecuador terrestre de $28,6◦$\n",
        "(esto  ́ultimo garantiza que la nave espacial y la\n",
        "Luna se mueven sobre el mismo plano). A la nave se le dará un incremento tangencial en la 1 velocidad, de tal manera que la órbita subsecuente sea capaz de llevarla a una órbita lunar sin variar su inclinación orbital y con el mínimo gasto de combustible posible. Considerando la teoría alrededor de la constante de Jacobi, encuentre la velocidad mínima que debería tener la nave espacial (respecto al sistema rotante) requerida para este propósito."
      ]
    },
    {
      "cell_type": "markdown",
      "metadata": {
        "id": "YFJqzBDPZ4gh"
      },
      "source": [
        "**Solucion**"
      ]
    },
    {
      "cell_type": "code",
      "metadata": {
        "id": "gvYbcLd8U1bJ",
        "colab": {
          "base_uri": "https://localhost:8080/",
          "height": 35
        },
        "outputId": "0c8dab85-50f5-4f20-afeb-fa4f32e1e6d0"
      },
      "source": [
        "#Constantes de movimiento\n",
        "Mt=5.98e24\n",
        "Ml=7.35e22\n",
        "d=4.5e8\n",
        "G=6.67e-11\n",
        "\n",
        "#Unidades Canónicas\n",
        "Um=Ml+Mt\n",
        "Ul=d\n",
        "Ut=sqrt(Ul**3/(G*Um))\n",
        "\n",
        "#Parametros de la Constante de Jacobi\n",
        "alpha=Ml/Um\n",
        "\n",
        "print(\"El sistema tierra luna tiene un valor de alpha : %.6f\"%alpha)"
      ],
      "execution_count": null,
      "outputs": [
        {
          "output_type": "stream",
          "text": [
            "El sistema tierra luna tiene un valor de alpha : 0.012142\n"
          ],
          "name": "stdout"
        }
      ]
    },
    {
      "cell_type": "markdown",
      "metadata": {
        "id": "1t9hBIZNVOxd"
      },
      "source": [
        "###Puntos de lagrange\n",
        "Son puntos donde el tercer cuerpo $m_3$ llega con aceleración cero \"visto desdeel sistema rotante\", estos puntos se dividen el puntos triangulares y puntos colineales, \n",
        "Los puntos colineales son los que se definen el las curvas de velocidad cero vistas en la siguiente imagen.\n",
        "Para calcular los puntos colineales de Lagrange recomendable usar metodos númericos ya questos tienen la siguiente expresión.\n",
        "\n",
        "Recordando que las dos restricciones ya deducidas son: $z = y = 0$,\n",
        "la ecuacion anterior queda\n",
        "\n",
        "\\begin{equation}\n",
        "\\boxed{\\displaystyle x - (1-\\alpha)\\frac{(x-x_1)}{|x - x_1|^3} - \\alpha \\frac{(x - x_2)}{|x - x_2|^3} = 0}\n",
        "\\end{equation}\n",
        "\n",
        "Los valores de la variable $x$ se llaman puntos de lagrange los cuales denotaremos como $L_1$, $L_2$ y $L_3$. "
      ]
    },
    {
      "cell_type": "code",
      "metadata": {
        "id": "Yw-eZz3FVEoj",
        "colab": {
          "base_uri": "https://localhost:8080/",
          "height": 35
        },
        "outputId": "8f1e4e88-13fb-43f4-a1b9-d9ba9173a8c5"
      },
      "source": [
        "#puntos de Lagrange\n",
        "def lagrangePoints(x,alpha):\n",
        "    x1=-alpha\n",
        "    x2=1-alpha\n",
        "    f=(1-alpha)*(x-x1)/abs(x-x1)**3+alpha*(x-x2)/abs(x-x2)**3-x\n",
        "    return f\n",
        "\n",
        "#Puntos de Lagrange\n",
        "from scipy.optimize import bisect\n",
        "\n",
        "L1x=bisect(lagrangePoints,0,1-alpha-alpha/10,args=(alpha,))#punto de lagrange L1\n",
        "L2x=bisect(lagrangePoints,(1-alpha)+alpha/2,2,args=(alpha,))#punto de lagrange L2\n",
        "L3x=bisect(lagrangePoints,-2,-alpha-alpha/2,args=(alpha,))#punto de lagrange L3\n",
        "\n",
        "print(\"los puntos de lagrange del sistema Tierra-Luna son L1:\",\"%.4f\"%L1x,\"L2:\",\"%.4f\"%L2x,\"L3:\",\"%.4f\"%L3x)"
      ],
      "execution_count": null,
      "outputs": [
        {
          "output_type": "stream",
          "text": [
            "los puntos de lagrange del sistema Tierra-Luna son L1: 0.8370 L2: 1.1556 L3: -1.0051\n"
          ],
          "name": "stdout"
        }
      ]
    },
    {
      "cell_type": "code",
      "metadata": {
        "id": "opMA_i4gVJcJ",
        "colab": {
          "base_uri": "https://localhost:8080/",
          "height": 423
        },
        "outputId": "21083501-b920-4981-9851-b3ebcb2a4b7c"
      },
      "source": [
        "xs=np.linspace(-2,2,100)\n",
        "plt.figure(figsize=(6,6))\n",
        "plt.plot(xs,lagrangePoints(xs,alpha),'k-')\n",
        "plt.plot(0,0,\"rx\",markersize=20*(1-alpha),label=\"Centro de masa\")\n",
        "plt.plot(-alpha,[0],'o',color='blue',markersize=10*(1-alpha),label=\"Tierra\")\n",
        "plt.plot([1-alpha],[0],'o',color='orange',markersize=max(2,10*alpha),label=\"Luna\")\n",
        "#Graficando los puntos de Lagrange\n",
        "plt.annotate(r'L1',\n",
        "            xy=(L1x,0 ), xycoords='data',\n",
        "            xytext=(-10, +10), textcoords='offset points', fontsize=16)\n",
        "            #arrowprops=dict(arrowstyle=\"->\", connectionstyle=\"arc3,rad=.2\"))\n",
        "plt.plot([L1x],[0],'r*',markersize=10,label=\"Puntos de Lagrange\")\n",
        "plt.annotate(r'L2',\n",
        "            xy=(L2x,0 ), xycoords='data',\n",
        "            xytext=(-10, +10), textcoords='offset points', fontsize=16)\n",
        "plt.plot([L2x],[0],'r*',markersize=10)\n",
        "plt.annotate(r'L3',\n",
        "            xy=(L3x,0 ), xycoords='data',\n",
        "            xytext=(-10, +10), textcoords='offset points', fontsize=16)\n",
        "plt.plot([L3x],[0],'r*',markersize=10)\n",
        "plt.title(\"PUNTOS COLINEALES DE LAGRANGE\",fontsize=16)\n",
        "plt.xlabel(\"x (Unidades Canónicas)\")\n",
        "plt.ylabel(\"y (Unidades Canónicas)\")\n",
        "plt.xlim(-1.5,1.5)\n",
        "plt.ylim(-50,50)\n",
        "plt.grid()\n",
        "plt.legend()"
      ],
      "execution_count": null,
      "outputs": [
        {
          "output_type": "execute_result",
          "data": {
            "text/plain": [
              "<matplotlib.legend.Legend at 0x7fbedef68898>"
            ]
          },
          "metadata": {
            "tags": []
          },
          "execution_count": 7
        },
        {
          "output_type": "display_data",
          "data": {
            "image/png": "[encoded data removed]",
            "text/plain": [
              "<Figure size 432x432 with 1 Axes>"
            ]
          },
          "metadata": {
            "tags": []
          }
        }
      ]
    },
    {
      "cell_type": "markdown",
      "metadata": {
        "id": "pSPXWBcDVhGh"
      },
      "source": [
        "Para llevar una nave a la Luna, es necesario examinar el siguiente gráfico del (CRTBP) donde se muestran curvas de cero velocidad, para diferentes valores de la Constante de Jacobi\n",
        "\n",
        "<a href=\"https://ibb.co/7kMmtr8\"><img src=\"https://i.ibb.co/sWxY9sk/Captura.png\" alt=\"Captura\" border=\"0\"></a>\n",
        "\n",
        "Estas curvas se pueden interpretar como las regiones donde se puede mover el cuerpo $m_3$, se puede observar que en la curva azul, esta delimitando la region entre los dos cuerpos $m_1$ y $m_2$, en cuya intersección se encunetra el punto de Lagrnge $L_1$,al cual corresponde a un valor de la cosntante de Jacobi. \n",
        "\n",
        "$$\n",
        "C_J=-\\vec{v}^{2}+\\frac{2\\left(1-\\alpha\\right)}{r_{1}}+\\frac{2\\alpha}{r_{2}}+x^{2}+y^{2}\\qquad(1).\n",
        "$$\n",
        "\n",
        "En este caso  que si desea que la partícula $m_3$ orbite unicamente la tierra, se debe hallar una velocidad $v_0$ de tal modo que la Constante de Jacobi este definiendo la region azul, si se quiere que la particula pase a la region roja, se debe incrementar la velocidad, y esta eventualmente pasara a órbitar la Luna.\n",
        "Para encontrar el $C_j$ correspondiente a la curva Azul, Es necesario ubicarnos en el punto de Lagrange $L_1$, ya que si la nave llega a este punto, esta estaria en reposo (Desde el sistema rotatante), solo seria necesario incrementar un poco la velocidad para que esta pase a la region roja. \n",
        "Como ya conocemos el valor de $L_1$ es posible encontrar el valor de la constante asociada, usando la siguiente expresión\n",
        "$$\n",
        "C_J=\\frac{2\\left(1-\\alpha\\right)}{x_{L_{1}}+\\alpha}+\\frac{2\\alpha}{1-\\alpha-x_{L_{1}}}+x_{L_{1}}^{2}=3.18832\\qquad(2).\n",
        "$$\n",
        "Teniendo este valor de $C_j$ despejamos la Velocidad dela ecuacion (1) y tenemos la velocidad min que necesita una particula para llegar a $L_1$\n",
        "$$\n",
        "\\boxed{v_{min}=\\sqrt{-C_{J}+\\frac{2\\left(1-\\alpha\\right)}{a}+2\\alpha+x^{2}+y^{2}}.\\qquad(3)}\n",
        "$$\n"
      ]
    },
    {
      "cell_type": "code",
      "metadata": {
        "id": "0Qz125IFZB2u",
        "colab": {
          "base_uri": "https://localhost:8080/",
          "height": 35
        },
        "outputId": "129ef6cb-bec9-4400-d7f1-688551444b24"
      },
      "source": [
        "#fUNCION QUE CALCULA EL VALOR DE LA CONSTANTE DE JACOBI PARA L1,L2,L3\n",
        "def JacobiConstant(L,v,alpha):\n",
        "    r1=-alpha\n",
        "    r2=1-alpha\n",
        "    omega=1\n",
        "    R1=abs(L-r1)\n",
        "    R2=abs(L-r2)\n",
        "    C=2*(1-alpha)/(R1)+2*alpha/(R2)+(L**2)-(v)**2\n",
        "    return C\n",
        "#Valores de la constante de Jacobi\n",
        "Cj1=JacobiConstant(L1x,0,alpha)# constante de Jacobi para L1\n",
        "Cj2=JacobiConstant(L2x,0,alpha)# constante de Jacobi para L2\n",
        "Cj3=JacobiConstant(L3x,0,alpha) # constante de Jacobi para L3\n",
        "print(\"los puntos de Lagrange L1 & L2 L3, Tienen como constante de Jacbi a\",\"%.4f\"%Cj1,\"%.4f\"%Cj2,\"%.4f\"% Cj3,\"respectivamente\")"
      ],
      "execution_count": null,
      "outputs": [
        {
          "output_type": "stream",
          "text": [
            "los puntos de Lagrange L1 & L2 L3, Tienen como constante de Jacbi a 3.1883 3.1721 3.0121 respectivamente\n"
          ],
          "name": "stdout"
        }
      ]
    },
    {
      "cell_type": "code",
      "metadata": {
        "id": "kVYpx5HJVofC",
        "colab": {
          "base_uri": "https://localhost:8080/",
          "height": 69
        },
        "outputId": "8d48c28e-c51f-4fef-9ed4-9cdb3169234d"
      },
      "source": [
        "#Constane de Jacobi asociada a L1\n",
        "\n",
        "Cj=JacobiConstant(L1x,0,alpha)\n",
        "\"\"\"\n",
        "Calculo de la velocidad Minima para que la partícula se mueva  unicamente en la region azul\n",
        "\"\"\" \n",
        "def Velocidadminima(x,y,Cj):\n",
        "  return np.sqrt(-Cj+2*(1-alpha)/a+x**2+y**2+2*alpha)\n",
        "\n",
        "x=6400e3/Ul -alpha #Posicón de lanzamiento de la nave sobre la superficie de la tierra\n",
        "y=0\n",
        "a=6400e3/Ul\n",
        "\n",
        "V_min=Velocidadminima(x,y,Cj) #velocidad minima \n",
        "v= Velocidadminima(x,y,Cj)*(Ul/Ut)/1000 #velocidad \n",
        "\n",
        "\n",
        "\n",
        "\n",
        "print(\"La constante de Jacobi para  L1 =%.4f  \"%L1x,\" es =%.4f m/s\"%Cj)\n",
        "print(\"La velocidad minima es para mantenerce en la región azul es  %.4f Ul/Ut \"%V_min,\"%.4f m/s\"%v)\n",
        "print(\"La posición de lanzamiento de la partícula es  %.4f Ul \"%x)\n"
      ],
      "execution_count": null,
      "outputs": [
        {
          "output_type": "stream",
          "text": [
            "La constante de Jacobi para  L1 =0.8370    es =3.1883 m/s\n",
            "La velocidad minima es para mantenerce en la región azul es  11.6513 Ul/Ut  11.0366 m/s\n",
            "La posición de lanzamiento de la partícula es  0.0021 Ul \n"
          ],
          "name": "stdout"
        }
      ]
    },
    {
      "cell_type": "markdown",
      "metadata": {
        "id": "eo7uaIPuVpwQ"
      },
      "source": [
        "La constante de Jacobi para para $L_1$ es $3.1882$, por tanto una particula para llegar a $L_1$ Necesita una velocidad minima de $11.037\\mbox{m}/\\mbox{s}^2$"
      ]
    },
    {
      "cell_type": "markdown",
      "metadata": {
        "id": "SnFAKCX7V4yv"
      },
      "source": [
        "#Objeto orbitando unicamente la Tierra\n",
        "Para que la partícula órbite  unicamente la tierra es necesario una velocidad menor a $v_{min}=11.2\\, U_l/U_t=11.65\\, \\mbox{km}/\\mbox{s}$ y mayor a $v_{esc}=11,186\\, \\mbox{km}/\\mbox{s}$ que es la velocidad de escape de la tierra.\n",
        "\n",
        "<a href=\"https://imgbb.com/\"><img src=\"https://i.ibb.co/DkcDJJq/descarga-2.png\" alt=\"descarga-2\" border=\"0\"></a><br /><a target='_blank' href='https://es.imgbb.com/'>\n"
      ]
    },
    {
      "cell_type": "markdown",
      "metadata": {
        "id": "qR43Vm2PWXzC"
      },
      "source": [
        "Objeto orbitando el sistema Tierra-Luna\n",
        "Para que orbite ambos cuerpos es necesario dotar al el zatélite de un velocidad mayor a  $v=11,65Km/s$  aunque no demasiada porque no se desea que alcanse una velocidad que la pueda sacar de la region roja\n",
        "\n",
        "<a href=\"https://imgbb.com/\"><img src=\"https://i.ibb.co/M7SrkSF/descarga-3.png\" alt=\"descarga-3\" border=\"0\"></a>"
      ]
    },
    {
      "cell_type": "markdown",
      "metadata": {
        "id": "Ga9stN9pXwqV"
      },
      "source": [
        "Si se desea que el satelite se quede orbitando la luna, es necesario que la partícula este en la región cercana a la Luna, y una vez ahí bajar la velocidad de modo que el movimiento de la partícula vuelva a estar delimitada por la curva azul\n",
        "<a href=\"https://imgbb.com/\"><img src=\"https://i.ibb.co/kxRhfn1/descarga-4.png\" alt=\"descarga-4\" border=\"0\"></a>"
      ]
    },
    {
      "cell_type": "markdown",
      "metadata": {
        "id": "hpkMzQ7JvXCC"
      },
      "source": [
        "**6. Posición del planeta Neptuno.** Prediga el vector de posición (respecto a la eclíptica) del planeta Neptuno para el día 14 octubre de 2019 a las 00:00:00 UT. Calcule el error relativo porcentual de sus resultados con aquellos entregados por el sistema HORIZONS de NASA, que para ese momento particular son:\n",
        "\\begin{eqnarray}\n",
        "x_{ecliptica} &=& +2,919007594264247 × 10^{+1} AU\\\\\n",
        "y_{ecliptica} &=& −6,610890476412660 × 10^{00} AU\\\\\n",
        "z_{ecliptica} &=& −5,366637740198267 × 10^{−1} AU\n",
        "\\end{eqnarray}"
      ]
    },
    {
      "cell_type": "code",
      "metadata": {
        "id": "TRJRI6qJx_88",
        "colab": {
          "base_uri": "https://localhost:8080/",
          "height": 35
        },
        "outputId": "a48981c3-abae-448d-ff6d-93d6c42b0f69"
      },
      "source": [
        "#Angulos de euler \n",
        "\n",
        "i = 50*np.pi/180.0 #rad Inclinación del plano\n",
        "W = 0.0*np.pi/180.0 #Omega rad Angulo de los nodos \n",
        "w =30*np.pi/180.0 #rad\n",
        "f = 20*np.pi/180.0 #rad Anomalia verdadera\n",
        "a = 8016.0#km Semiejemayor\n",
        "e = 0.06 #excentricidad\n",
        "# Radio Vector\n",
        "r=a*(1-e**2)/(1+e*np.cos(f))\n",
        "##Matriz de transformación del Sistema \n",
        "X=r*np.cos(f)*(np.cos(W)*np.cos(w) - np.sin(W)*np.sin(w)*np.cos(i)) - r*sin(f)*(np.cos(W)*np.sin(w)+np.sin(W)*np.cos(i)*np.cos(w))\n",
        "Y= r*np.cos(f)*(np.sin(W)*np.cos(w)+ np.cos(W)*np.cos(i)*np.sin(w))+ r*np.sin(f)*(-np.sin(W)*np.sin(w)+ np.cos(W)*np.cos(i)*np.cos(w))\n",
        "Z= r*np.cos(f)*np.sin(i)*np.sin(w) + r*np.sin(f)*np.sin(i)*np.cos(w)\n",
        "\n",
        "print(\" el vector de posición en el sistema del ecuador terrestre es (\",np.round(X,3),np.round(Y,3),np.round(Z,3), \") km y su magnitud es \",np.round(r,3),\"km\" )"
      ],
      "execution_count": null,
      "outputs": [
        {
          "output_type": "stream",
          "text": [
            " el vector de posición en el sistema del ecuador terrestre es ( 4860.021 3722.992 4436.889 ) km y su magnitud es  7560.85 km\n"
          ],
          "name": "stdout"
        }
      ]
    },
    {
      "cell_type": "code",
      "metadata": {
        "id": "h4hZe9L-0dyr"
      },
      "source": [
        "a = 8016.\n",
        "e = 0.06\n",
        "f = 20*GRADOS\n",
        "\n",
        "r = a*(1-e*e)/(1+e*np.cos(f))\n",
        "xppp = r*np.cos(f)\n",
        "yppp = r*np.sin(f)\n",
        "zppp = 0\n",
        "rppp=np.array([[xppp], [yppp], [zppp]])\n",
        "print('El vector posición en el plano orbital es, en km,\\n',rppp)"
      ],
      "execution_count": null,
      "outputs": []
    },
    {
      "cell_type": "code",
      "metadata": {
        "id": "OuCI4H4R0kij"
      },
      "source": [
        "i = 50*GRADOS\n",
        "Omega = 0*GRADOS\n",
        "omega = 30*DEG\n",
        "\n",
        "R3d=spy.eul2m(omega,i,Omega,3,1,3)\n",
        "R3d"
      ],
      "execution_count": null,
      "outputs": []
    },
    {
      "cell_type": "code",
      "metadata": {
        "id": "Nzt8uRhV0q7y"
      },
      "source": [
        "R3D = np.transpose(R3d) \n",
        "R3D"
      ],
      "execution_count": null,
      "outputs": []
    },
    {
      "cell_type": "code",
      "metadata": {
        "id": "pxtFh4M60uSN"
      },
      "source": [
        "R3D.dot(rppp)"
      ],
      "execution_count": null,
      "outputs": []
    },
    {
      "cell_type": "markdown",
      "metadata": {
        "id": "yN2fznK50dZj"
      },
      "source": [
        "**Parámetro de Tisserand para familias de cometas.** Dependiendo de propiedades como el periodo orbital $(P)$ y la distancia al perihelio $(q)$, los cometas son agrupados en distintas familias. Estadísticamente se ha observado que los miembros de estas familias poseen parámetros de Tisserand relativos a Júpiter $(T_J )$ bastante característicos y acotados. Así, los cometas que tienen $P < 20 años$ y $q < 2AU$ (cometas de periodo corto) presentan un parámetro de Tisserand entre $2 < T_J < 3$, los cometas de la familia de Júpiter con $ P < 20años$ y $2 < q < 5AU$ tienen $2,5 < T_J < 3$ y los de tipo Halley con $20 < P < 200 años$ (cometas de periodo largo) poseen $T_J < 2$. Demuestre estas cotas para $T_J$ seleccionando un cometa de cada familia y calculando su parámetro de Tisserand $T_J$ . Recuerde que los datos orbitales necesarios los puede encontrar en http://ssd.jpl.nasa.gov/sbdb.cgi#top."
      ]
    },
    {
      "cell_type": "markdown",
      "metadata": {
        "id": "oBj5Suw82RJ8"
      },
      "source": [
        "**Parametro de Tiserrand**\n",
        "\\begin{equation}\n",
        "\\boxed{\\displaystyle T_P=\\frac{1}{a} + 2\\sqrt{a(1-e^2)}\\cos I}\n",
        "\\end{equation}\n",
        "\n",
        "\n",
        "Considerando el corolario de Newton podemos encontrar el semieje mayor de estos cometas.\n",
        "\n",
        "$$\\eta^2a^3={G}(m_{\\odot}+m_{j})$$\n",
        "$$a=\\left(G(m_{\\odot}+m_{j})\\frac{P^2}{4\\pi^2}\\right)^\\frac{1}{3}$$,\n",
        "donde $m_{\\odot}$ es la masa del Sol y $m_j $ es la masa de Júpiter.\n",
        "\n",
        "En unidades canónicas se tiene\n",
        "$$a=\\left(\\frac{(P/UT)^2}{4\\pi^2}\\right)^\\frac{1}{3}$$"
      ]
    },
    {
      "cell_type": "code",
      "metadata": {
        "id": "NPeUPJxMANl5",
        "colab": {
          "base_uri": "https://localhost:8080/",
          "height": 35
        },
        "outputId": "d36a164d-4a95-415f-d99c-6a62b1d1c2ed"
      },
      "source": [
        "#Constantes del problema\n",
        "G=6.67e-11\n",
        "ms=1.98e30  # (kg) masa del sol\n",
        "mj=1.898e27 # (kg)masa de jupyter\n",
        "mc=2.2e14 # (kg) masa del cometa\n",
        "r=778.5e9 # (m) distancia de Jípiter al Sol \n",
        "Mu=G*(ms+mj) # mu\n",
        "T=12*365.25*86400 #periodo de Júpiter en segundos\n",
        "\n",
        "e=0 #excentricidad\n",
        "\n",
        "# Esfera de Actividad\n",
        "#R=r*(m/M)**(2/5)\n",
        "#R/1.5e11\n",
        "\n",
        "#Unidades Caónicas\n",
        "UL=r\n",
        "UM=ms+mj\n",
        "UT=sqrt(UL**3/(G*UM))\n",
        "UV=UL/UT\n",
        "#Cantidades en unidades Canónicas\n",
        "M=ms/UM #masa del sol en unidades canónicas\n",
        "m=mj/UM #masa de Júpiter en unidades canónicas\n",
        "mc=mc/UM\n",
        "a=r/UL# distaancia de jupiter en unidades canónicas\n",
        "\n",
        "\n",
        "\n"
      ],
      "execution_count": null,
      "outputs": [
        {
          "output_type": "execute_result",
          "data": {
            "text/plain": [
              "0.15776081658883165"
            ]
          },
          "metadata": {
            "tags": []
          },
          "execution_count": 13
        }
      ]
    },
    {
      "cell_type": "code",
      "metadata": {
        "id": "s_k2ox1XF0AB"
      },
      "source": [
        "def ParametroTp(P,I,e):\n",
        "  P=P/UT\n",
        "  a=(1.0*(P**2/(4*np.pi**2)))**(1/3)\n",
        "  return 1/a +2*np.sqrt(a*(1-e**2))*np.cos(I)\n",
        "def ColoralioNewton(P,M):\n",
        "  return (G*(M)*(P**2/(4*np.pi**2)))**(1/3)\n",
        "Nt=20\n",
        "I=np.linspace(0,np.pi/6,Nt)#Bajas inclinaciones Grados\n",
        "#plt.plot(I,cos(I))"
      ],
      "execution_count": null,
      "outputs": []
    },
    {
      "cell_type": "markdown",
      "metadata": {
        "id": "zrqd2sWYoOEs"
      },
      "source": [
        "**Cometas de Periodo corto**\n",
        "estos cometas poseen periodos que van desde $10\\leq P\\leq20 \\mbox{años}$, estos se calculan tomando una excentricidad de 0.5 ya que es una excentricidad promedio cuando se trata de cometas, ademas la excentricidad no influye significativamente en la clasificación que se pretende realizar. La inclinación de la órbita se tomo de $0$ a $30$ grados, ya que en este intervalo se encierran la mayoria de las inclinaciones de los cometas"
      ]
    },
    {
      "cell_type": "code",
      "metadata": {
        "id": "kuhGuHHvqomM",
        "colab": {
          "base_uri": "https://localhost:8080/",
          "height": 297
        },
        "outputId": "46bf387c-239e-4d09-bc13-5bac47c20ef6"
      },
      "source": [
        "Ps=20*(365.25*86400) # periodo que es la cota suerior 20 años\n",
        "Pi=10*(365.25*86400)# periodo que es la cota inferior 10 años\n",
        "P=np.linspace(Pi,Ps,Nt)#Bajas inclinaciones Grados\n",
        "plt.subplot(211)\n",
        "#plt.plot(I, ParametroTp(Ps,I,e=0.5))\n",
        "plt.plot(I,ParametroTp(Ps,I,e=0.5),\"ok\",label=\"Constante de Tiserrand\")\n",
        "plt.title(\"Parametro de Tiserrand vs la inclinación de la órbita\")\n",
        "plt.xlabel(\"I(Inclinación)\")\n",
        "plt.ylabel(\"Tp\")\n",
        "plt.legend()\n",
        "plt.grid()\n",
        "plt.subplot(212)\n",
        "plt.plot(P, ParametroTp(P,I=0,e=0.5),\"*b\",label=\"Constante de Tiserrand\")\n",
        "plt.title(\"Parametro de Tiserrand vs el periodo de la órbita\")\n",
        "plt.xlabel(\"P (Periodo)\")\n",
        "plt.ylabel(\"Tp\")\n",
        "plt.legend()\n",
        "plt.grid()\n",
        "plt.tight_layout()"
      ],
      "execution_count": null,
      "outputs": [
        {
          "output_type": "display_data",
          "data": {
            "image/png": "[encoded data removed]",
            "text/plain": [
              "<Figure size 432x288 with 2 Axes>"
            ]
          },
          "metadata": {
            "tags": []
          }
        }
      ]
    },
    {
      "cell_type": "markdown",
      "metadata": {
        "id": "oDki_VTZvXY3"
      },
      "source": [
        "El parametro de Tiserrand para estos cometas esta acotado por $2\\leq Tp\\leq 3$, entre estos estan los cometas los cometas de la familia de Júpiter con $ P < 20años$ y $2 < q < 5AU$ los cuales tienen parametros de Tiserrand asociados a Jpiter de $2,5 < T_J < 3$."
      ]
    },
    {
      "cell_type": "markdown",
      "metadata": {
        "id": "3TXGFlXzv_Yv"
      },
      "source": [
        "**Cometas de Periodo Largo**\n",
        "$20 < P < 200 años$ (cometas de periodo largo) poseen $T_J < 2$"
      ]
    },
    {
      "cell_type": "code",
      "metadata": {
        "id": "yxy_vEINv6eD",
        "colab": {
          "base_uri": "https://localhost:8080/",
          "height": 297
        },
        "outputId": "073200e8-b5ab-4c3d-cd4d-13e237ef46b4"
      },
      "source": [
        "I=np.linspace(0,np.pi)\n",
        "Ps=200*(365.25*86400) # periodo que es la cota suerior 200 años\n",
        "Pi=20*(365.25*86400)# periodo que es la cota inferior 20 años\n",
        "P=np.linspace(Pi,Ps,Nt)#Bajas inclinaciones Grados\n",
        "plt.subplot(211)\n",
        "plt.plot(I,ParametroTp(Ps,I,e=0.65),\"ok\",label=\"Constante de Tiserrand\")\n",
        "plt.title(\"Parametro de Tiserrand vs inclinación de la órbita\")\n",
        "plt.xlabel(\"I (Inclinación)\")\n",
        "plt.ylabel(\"Tp\")\n",
        "plt.legend()\n",
        "plt.grid()\n",
        "plt.subplot(212)\n",
        "plt.plot(P, ParametroTp(P,I=0,e=0.5),\"*b\",label=\"Constante de Tiserrand\")\n",
        "plt.title(\"Parametro de Tiserrand vs el periodo de la órbita\")\n",
        "plt.xlabel(\"P (Periodo)\")\n",
        "plt.ylabel(\"Tp\")\n",
        "plt.legend()\n",
        "plt.grid()\n",
        "plt.tight_layout()"
      ],
      "execution_count": null,
      "outputs": [
        {
          "output_type": "display_data",
          "data": {
            "image/png": "[encoded data removed]",
            "text/plain": [
              "<Figure size 432x288 with 2 Axes>"
            ]
          },
          "metadata": {
            "tags": []
          }
        }
      ]
    },
    {
      "cell_type": "markdown",
      "metadata": {
        "id": "XnglQhRV2_Ov"
      },
      "source": [
        "Extrayendo los datos órbitales de la pagina[JPL](https://ssd.jpl.nasa.gov/sbdb.cgi#top) \n",
        "del cometa **19P/Borrelly** que es de periodo corto,Se puede comprobar las cotas antes mencionadas.\n",
        "\n",
        "\\begin{eqnarray}\n",
        "e\t=&.6232892711821078\\\\\t \n",
        "a=&\t3.609665546424225\t&\tau\\\\\n",
        "q=&\t1.359799738782305\t&\tau\\\\\n",
        "i=&\t30.31307021679391\t&deg\\\\\n",
        "tp=& 2452166.75363030\\\\\n",
        "T=&6.86 & años\n",
        "\\end{eqnarray}\n",
        "Donde este tiene un parametro de tiserrand de $T_p=2.02$, lo que concuerda con los limites antes establecidos\n"
      ]
    },
    {
      "cell_type": "code",
      "metadata": {
        "id": "h_ye9PoQyPoR",
        "colab": {
          "base_uri": "https://localhost:8080/",
          "height": 52
        },
        "outputId": "6b7864c4-d073-40bc-bf29-c052ad2f16e1"
      },
      "source": [
        "# Elementos orbitales del cometa Borrelly\n",
        "\n",
        "IB=30.31307021679391\n",
        "PB=6.863*(365.25*86400)\n",
        "eB=.6232892711821078\n",
        "aB=3.609665546424225*1.5e11\n",
        "T_Borrelly=ParametroTp(PB,IB,eB)\n",
        "print(\"El parametro de Tiserrand del cometa Borrellyes %4.f \"%T_Borrelly)\n",
        "T_Borrelly"
      ],
      "execution_count": null,
      "outputs": [
        {
          "output_type": "stream",
          "text": [
            "El parametro de Tiserrand del cometa Borrellyes    2 \n"
          ],
          "name": "stdout"
        },
        {
          "output_type": "execute_result",
          "data": {
            "text/plain": [
              "2.030154991240164"
            ]
          },
          "metadata": {
            "tags": []
          },
          "execution_count": 79
        }
      ]
    },
    {
      "cell_type": "markdown",
      "metadata": {
        "id": "gOPmSpJxBgB_"
      },
      "source": [
        "Para cometas de periodo largo se tomo los datos del cometa 1/P halley que tiene los siguientes elementos orbitales\n",
        "\\begin{align}\n",
        "e=&\t0.967142908462304 \\\\\n",
        "a=&\t17.8341442925537\t&au\\\\\n",
        "q=&\t0.585978111516909\t&\tau\\\\\n",
        "i=&\t162.262690579161\t&\tdeg\\\\\n",
        "tp=&\t2446467.395317050925\\\\\n",
        "T=& 75.32\n",
        "\\end{align}"
      ]
    },
    {
      "cell_type": "code",
      "metadata": {
        "id": "GU4Ykzxj96DQ",
        "colab": {
          "base_uri": "https://localhost:8080/",
          "height": 52
        },
        "outputId": "4f2e80b7-0fc7-45a6-ac07-0c93a7559279"
      },
      "source": [
        "#Elementos orbitales del cometa Halley\n",
        "IH=162.262690579161\n",
        "PH=75.32*(365.25*86400)\n",
        "eH=0.967142908462304\n",
        "aH=17.8341442925537*1.5e11\n",
        "T_H=ParametroTp(PB,IH,eH)\n",
        "print(\"El parametro de Tiserrand del cometa Hayakutaake es %4.f \"%T_H)\n",
        "T_H"
      ],
      "execution_count": null,
      "outputs": [
        {
          "output_type": "stream",
          "text": [
            "El parametro de Tiserrand del cometa Hayakutaake es    2 \n"
          ],
          "name": "stdout"
        },
        {
          "output_type": "execute_result",
          "data": {
            "text/plain": [
              "1.6348407349098322"
            ]
          },
          "metadata": {
            "tags": []
          },
          "execution_count": 81
        }
      ]
    },
    {
      "cell_type": "markdown",
      "metadata": {
        "id": "LC_2cHo-s8di"
      },
      "source": [
        "**8. Puntos colineales de Lagrange .**\n",
        "Calcule num ́ericamente la ubicación de los\n",
        "tres puntos colineales de Lagrange para un valor de α = 0,3 resolviendo la ecuación.\n",
        "\n",
        "\\begin{equation}\n",
        "\\boxed{\\displaystyle x - (1-\\alpha)\\frac{(x-x_1)}{|x - x_1|^3} - \\alpha \\frac{(x - x_2)}{|x - x_2|^3} = 0}\n",
        "\\end{equation}\n"
      ]
    },
    {
      "cell_type": "code",
      "metadata": {
        "id": "YNh3U14Ytw-t",
        "colab": {
          "base_uri": "https://localhost:8080/",
          "height": 34
        },
        "outputId": "3b657aab-c1ea-416b-ce41-28854c2fe020"
      },
      "source": [
        "#Datos iniciales\n",
        "alpha1=0.3\n",
        "#Usa la rutina de puntos de lagrange definida en celdas anteriores\n",
        "L1x=bisect(lagrangePoints,0,1-alpha1-alpha1/10,args=(alpha1,))#punto de lagrange L1\n",
        "L2x=bisect(lagrangePoints,(1-alpha1)+alpha1/2,2,args=(alpha1,))#punto de lagrange L2\n",
        "L3x=bisect(lagrangePoints,-2,-alpha1-alpha1/2,args=(alpha1,))#punto de lagrange L3\n",
        "\n",
        "print(\"los puntos de lagrange para alpha= 0.3 son L1:\",\"%.4f\"%L1x,\"L2:\",\"%.4f\"%L2x,\"L3:\",\"%.4f\"%L3x)"
      ],
      "execution_count": null,
      "outputs": [
        {
          "output_type": "stream",
          "text": [
            "los puntos de lagrange para alpha: 0.3 son L1: 0.2861 L2: 1.2567 L3: -1.1232\n"
          ],
          "name": "stdout"
        }
      ]
    },
    {
      "cell_type": "markdown",
      "metadata": {
        "id": "kofm99E_tv9l"
      },
      "source": [
        ""
      ]
    },
    {
      "cell_type": "code",
      "metadata": {
        "id": "2cGNSk9qVZ3o",
        "colab": {
          "base_uri": "https://localhost:8080/",
          "height": 423
        },
        "outputId": "17560769-b83a-4de0-f73b-725f3d68ed80"
      },
      "source": [
        "xs=np.linspace(-2,2,100)\n",
        "plt.figure(figsize=(6,6))\n",
        "plt.plot(xs,lagrangePoints(xs,alpha1),'k-')\n",
        "plt.plot(0,0,\"rx\",markersize=20*(1-alpha1),label=\"Centro de masa\")\n",
        "plt.plot(-alpha1,[0],'o',color='blue',markersize=10*(1-alpha1),label=\"m1\")\n",
        "plt.plot([1-alpha1],[0],'o',color='orange',markersize=max(2,10*alpha1),label=\"m2\")\n",
        "#Graficando los puntos de Lagrange\n",
        "plt.annotate(r'L1',\n",
        "            xy=(L1x,0 ), xycoords='data',\n",
        "            xytext=(-10, +10), textcoords='offset points', fontsize=16)\n",
        "            #arrowprops=dict(arrowstyle=\"->\", connectionstyle=\"arc3,rad=.2\"))\n",
        "plt.plot([L1x],[0],'r*',markersize=10,label=\"Puntos de Lagrange\")\n",
        "plt.annotate(r'L2',\n",
        "            xy=(L2x,0 ), xycoords='data',\n",
        "            xytext=(-10, +10), textcoords='offset points', fontsize=16)\n",
        "plt.plot([L2x],[0],'r*',markersize=10)\n",
        "plt.annotate(r'L3',\n",
        "            xy=(L3x,0 ), xycoords='data',\n",
        "            xytext=(-10, +10), textcoords='offset points', fontsize=16)\n",
        "plt.plot([L3x],[0],'r*',markersize=10)\n",
        "plt.title(\"PUNTOS COLINEALES DE LAGRANGE\",fontsize=16)\n",
        "plt.xlabel(\"x (Unidades Canónicas)\")\n",
        "plt.ylabel(\"y (Unidades Canónicas)\")\n",
        "plt.xlim(-1.5,1.5)\n",
        "plt.ylim(-50,50)\n",
        "plt.grid()\n",
        "plt.legend()"
      ],
      "execution_count": null,
      "outputs": [
        {
          "output_type": "execute_result",
          "data": {
            "text/plain": [
              "<matplotlib.legend.Legend at 0x7f8c76028080>"
            ]
          },
          "metadata": {
            "tags": []
          },
          "execution_count": 17
        },
        {
          "output_type": "display_data",
          "data": {
            "image/png": "[encoded data removed]",
            "text/plain": [
              "<Figure size 432x432 with 1 Axes>"
            ]
          },
          "metadata": {
            "tags": []
          }
        }
      ]
    }
  ]
}